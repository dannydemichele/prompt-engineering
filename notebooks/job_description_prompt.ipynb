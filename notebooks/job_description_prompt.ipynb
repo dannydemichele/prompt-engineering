{
 "cells": [
  {
   "cell_type": "markdown",
   "metadata": {},
   "source": [
    "#### Import Modlues"
   ]
  },
  {
   "cell_type": "code",
   "execution_count": 9,
   "metadata": {},
   "outputs": [],
   "source": [
    "import sys, os\n",
    "import cohere\n",
    "from dotenv import load_dotenv\n",
    "sys.path.append(os.path.abspath(os.path.join('../scripts')))\n",
    "from read_write_util import ReadWriteUtil\n",
    "from prompt_pipeline import PromptPipeline"
   ]
  },
  {
   "cell_type": "markdown",
   "metadata": {},
   "source": [
    "#### Read Cleaned Data"
   ]
  },
  {
   "cell_type": "code",
   "execution_count": 5,
   "metadata": {},
   "outputs": [],
   "source": [
    "reader = ReadWriteUtil()\n",
    "API_KEY = os.getenv('API_KEY')\n",
    "# print(API_KEY)\n",
    "#Initialize reader and API_KEY"
   ]
  },
  {
   "cell_type": "code",
   "execution_count": 6,
   "metadata": {},
   "outputs": [
    {
     "name": "stderr",
     "output_type": "stream",
     "text": [
      "2022-09-14 06:24:23,792:logger:../data/job_description_train_cleaned.json with version jdtrain_v1_cleaned Loaded\n"
     ]
    },
    {
     "data": {
      "text/plain": [
       "{'document': \"Bachelor's degree in Mechanical Engineering or Physical Science 3+ years track record of developing or specifying fiber optic cables and connector related products Knowledge of fiber optic component, cabling, and interconnect products, technologies, and standards Experience in statistical data analysis Experience with product life cycle management (PLM) process Experience providing solutions to problems and meeting deadlines Experience engaging stakeholders PREFERRED Advanced degree Experience using a software tool for statistical data analysis such as JMP Experience using Agile as product life-cycle management tool Data center or other mission critical development experience\",\n",
       " 'tokens': [{'text': 'Bachelor', 'entityLabel': 'DIPLOMA'},\n",
       "  {'text': 'Mechanical Engineering', 'entityLabel': 'DIPLOMA_MAJOR'},\n",
       "  {'text': 'Physical Science', 'entityLabel': 'DIPLOMA_MAJOR'},\n",
       "  {'text': '3+ years', 'entityLabel': 'EXPERIENCE'},\n",
       "  {'text': 'developing', 'entityLabel': 'SKILLS'},\n",
       "  {'text': 'fiber optic cables', 'entityLabel': 'SKILLS'},\n",
       "  {'text': 'connector related products', 'entityLabel': 'SKILLS'}]}"
      ]
     },
     "execution_count": 6,
     "metadata": {},
     "output_type": "execute_result"
    }
   ],
   "source": [
    "train_data =  reader.dvc_get_data('../data/job_description_train_cleaned.json', 'jdtrain_v1_cleaned')\n",
    "train_data[0]"
   ]
  },
  {
   "cell_type": "code",
   "execution_count": 7,
   "metadata": {},
   "outputs": [
    {
     "name": "stderr",
     "output_type": "stream",
     "text": [
      "2022-09-14 06:24:24,031:logger:../data/job_description_test_cleaned.json with version jdtest_v1_cleaned Loaded\n"
     ]
    },
    {
     "data": {
      "text/plain": [
       "{'document': '\\nCurrently holding a faculty, industry, or government researcher position.\\nPh.D. and publications in machine learning, AI, computer science, statistics, applied mathematics, data science, or related technical fields.\\nExperience leading a team in solving analytical problems using quantitative approaches.\\nExperience manipulating and analyzing data from different sources.\\nExperience in theoretical and empirical research and for answering questions with research.\\nAbility to communicate research for public audiences of peers.\\nKnowledge in a programming language.\\nAbility to obtain and maintain work authorization in the country of employment in 2018.\\n\\nPREFERRED \\n1+ year(s) of work experience in a university, industry, or government lab(s), in a role with primary emphasis on AI research.\\nExperience driving original scholarship in collaboration with a team.\\nFirst-author publications at peer-reviewed AI conferences (e.g. NIPS, CVPR, ICML, ICLR, ICCV, and ACL).\\nExperience in developing and debugging in C/C++, Python, C# and/or Java.',\n",
       " 'tokens': [{'text': 'Ph.D.', 'entityLabel': 'DIPLOMA'},\n",
       "  {'text': 'machine learning', 'entityLabel': 'DIPLOMA_MAJOR'},\n",
       "  {'text': 'AI', 'entityLabel': 'DIPLOMA_MAJOR'},\n",
       "  {'text': 'computer science', 'entityLabel': 'DIPLOMA_MAJOR'},\n",
       "  {'text': 'statistics', 'entityLabel': 'DIPLOMA_MAJOR'},\n",
       "  {'text': 'applied mathematics', 'entityLabel': 'DIPLOMA_MAJOR'},\n",
       "  {'text': 'data science', 'entityLabel': 'DIPLOMA_MAJOR'},\n",
       "  {'text': '1+ year(s', 'entityLabel': 'EXPERIENCE'},\n",
       "  {'text': 'university', 'entityLabel': 'SKILLS'},\n",
       "  {'text': 'industry', 'entityLabel': 'SKILLS'},\n",
       "  {'text': 'government lab(s)', 'entityLabel': 'SKILLS'},\n",
       "  {'text': 'AI', 'entityLabel': 'SKILLS'}]}"
      ]
     },
     "execution_count": 7,
     "metadata": {},
     "output_type": "execute_result"
    }
   ],
   "source": [
    "test_data = reader.dvc_get_data('../data/job_description_test_cleaned.json', 'jdtest_v1_cleaned')\n",
    "test_data[0]"
   ]
  },
  {
   "cell_type": "markdown",
   "metadata": {},
   "source": [
    "### Try Different Prompt Techniques"
   ]
  },
  {
   "cell_type": "markdown",
   "metadata": {},
   "source": [
    "`We are going to use cohere to extract entities from the job description, we are going to use different techniques to come up with an effective and dynamic prompt`"
   ]
  },
  {
   "cell_type": "markdown",
   "metadata": {},
   "source": [
    "#### Initialize our Cohere Client"
   ]
  },
  {
   "cell_type": "code",
   "execution_count": 10,
   "metadata": {},
   "outputs": [],
   "source": [
    "co = cohere.Client(API_KEY)"
   ]
  },
  {
   "cell_type": "markdown",
   "metadata": {},
   "source": [
    "#### Technique 1: Choosing the first two in our training json as a prompt to be used by cohere's LLM Generate"
   ]
  },
  {
   "cell_type": "code",
   "execution_count": 8,
   "metadata": {},
   "outputs": [
    {
     "data": {
      "text/plain": [
       "[{'document': \"Bachelor's degree in Mechanical Engineering or Physical Science 3+ years track record of developing or specifying fiber optic cables and connector related products Knowledge of fiber optic component, cabling, and interconnect products, technologies, and standards Experience in statistical data analysis Experience with product life cycle management (PLM) process Experience providing solutions to problems and meeting deadlines Experience engaging stakeholders PREFERRED Advanced degree Experience using a software tool for statistical data analysis such as JMP Experience using Agile as product life-cycle management tool Data center or other mission critical development experience\",\n",
       "  'tokens': [{'text': 'Bachelor', 'entityLabel': 'DIPLOMA'},\n",
       "   {'text': 'Mechanical Engineering', 'entityLabel': 'DIPLOMA_MAJOR'},\n",
       "   {'text': 'Physical Science', 'entityLabel': 'DIPLOMA_MAJOR'},\n",
       "   {'text': '3+ years', 'entityLabel': 'EXPERIENCE'},\n",
       "   {'text': 'developing', 'entityLabel': 'SKILLS'},\n",
       "   {'text': 'fiber optic cables', 'entityLabel': 'SKILLS'},\n",
       "   {'text': 'connector related products', 'entityLabel': 'SKILLS'}]},\n",
       " {'document': '10+ years of software engineering work experience. Technical experience in release automation engineering, CI/CD or related roles. Experience building and leading a software organization through product design, delivery and commercialization of consumer electronics devices. Experience recruiting and managing technical teams, including performance management. BS/MS in Computer Science. Experience in leading timeline, multi-partner initiatives. Organizational communication and coordination experience. PREFERRED 5+ years of experience with hands-on technical management, release engineering, tools engineering, DevOps, or related area.',\n",
       "  'tokens': [{'text': '10+ years', 'entityLabel': 'EXPERIENCE'},\n",
       "   {'text': 'software engineering', 'entityLabel': 'SKILLS'},\n",
       "   {'text': '5+ years', 'entityLabel': 'EXPERIENCE'},\n",
       "   {'text': 'technical management', 'entityLabel': 'SKILLS'},\n",
       "   {'text': 'release engineering', 'entityLabel': 'SKILLS'},\n",
       "   {'text': 'tools engineering', 'entityLabel': 'SKILLS'},\n",
       "   {'text': 'DevOps', 'entityLabel': 'SKILLS'},\n",
       "   {'text': 'BS/MS', 'entityLabel': 'DIPLOMA'},\n",
       "   {'text': 'Computer Science', 'entityLabel': 'DIPLOMA_MAJOR'}]}]"
      ]
     },
     "execution_count": 8,
     "metadata": {},
     "output_type": "execute_result"
    }
   ],
   "source": [
    "tech1_train_data = train_data[:2]\n",
    "tech1_train_data\n",
    "#Picking the first two arrays from our json"
   ]
  },
  {
   "cell_type": "markdown",
   "metadata": {},
   "source": [
    "#### Extract Values from json"
   ]
  },
  {
   "cell_type": "code",
   "execution_count": null,
   "metadata": {},
   "outputs": [],
   "source": []
  },
  {
   "cell_type": "code",
   "execution_count": 11,
   "metadata": {},
   "outputs": [
    {
     "name": "stderr",
     "output_type": "stream",
     "text": [
      "Warning: Your text contains a trailing whitespace, which has been trimmed to ensure high quality generations., Your text contains a trailing whitespace, which has been trimmed to ensure high quality generations.\n",
      "\n"
     ]
    },
    {
     "name": "stdout",
     "output_type": "stream",
     "text": [
      "Prediction: --\n"
     ]
    }
   ],
   "source": [
    "\n",
    "response = co.generate( \n",
    "  model='xlarge', \n",
    "  prompt='Job Description: Bachelor\\'s degree in Mechanical Engineering or Physical Science 3+ years track record of developing or specifying fiber optic cables and connector related products Knowledge of fiber optic component, cabling, and interconnect products, technologies, and standards Experience in statistical data analysis Experience with product life cycle management (PLM) process Experience providing solutions to problems and meeting deadlines Experience engaging stakeholders PREFERRED Advanced degree Experience using a software tool for statistical data analysis such as JMP Experience using Agile as product life-cycle management tool Data center or other mission critical development experience\\n\\nDIPLOMA: Bachelor\\nDIPLOMA_MAJOR: Mechanical Engineering, Physical Science\\nEXPERIENCE: 3+ years\\nSKILLS: developing, fiber optic cables, connector related products\\n--\\n', \n",
    "  max_tokens=400, \n",
    "  temperature=0.5, \n",
    "  k=0, \n",
    "  p=1, \n",
    "  frequency_penalty=0, \n",
    "  presence_penalty=0, \n",
    "  stop_sequences=[\"--\"], \n",
    "  return_likelihoods='NONE') \n",
    "print('Prediction: {}'.format(response.generations[0].text))"
   ]
  },
  {
   "cell_type": "code",
   "execution_count": null,
   "metadata": {},
   "outputs": [],
   "source": []
  }
 ],
 "metadata": {
  "kernelspec": {
   "display_name": "Python 3.9.12 64-bit ('anaconda3')",
   "language": "python",
   "name": "python3"
  },
  "language_info": {
   "codemirror_mode": {
    "name": "ipython",
    "version": 3
   },
   "file_extension": ".py",
   "mimetype": "text/x-python",
   "name": "python",
   "nbconvert_exporter": "python",
   "pygments_lexer": "ipython3",
   "version": "3.9.12"
  },
  "orig_nbformat": 4,
  "vscode": {
   "interpreter": {
    "hash": "d544f67e9aa83adbd02c37f60b9b691fd714bd2f11a4e3320930970c6f737269"
   }
  }
 },
 "nbformat": 4,
 "nbformat_minor": 2
}
