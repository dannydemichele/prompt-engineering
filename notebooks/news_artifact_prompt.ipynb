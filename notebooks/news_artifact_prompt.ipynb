{
 "cells": [
  {
   "cell_type": "markdown",
   "metadata": {},
   "source": [
    "#### Import Modules"
   ]
  },
  {
   "cell_type": "code",
   "execution_count": 1,
   "metadata": {},
   "outputs": [],
   "source": [
    "import sys, os\n",
    "import re\n",
    "import pandas as pd\n",
    "import cohere\n",
    "from dotenv import load_dotenv\n",
    "from nltk.tokenize import word_tokenize, sent_tokenize\n",
    "import nltk\n",
    "from nltk.corpus import stopwords\n",
    "from nltk.stem.porter import PorterStemmer\n",
    "from nltk.stem.wordnet import WordNetLemmatizer\n",
    "sys.path.append(os.path.abspath(os.path.join('../scripts')))\n",
    "from read_write_util import ReadWriteUtil\n",
    "from prompt_pipeline import PromptPipeline"
   ]
  },
  {
   "cell_type": "code",
   "execution_count": 2,
   "metadata": {},
   "outputs": [],
   "source": [
    "reader = ReadWriteUtil()\n",
    "API_KEY = os.getenv('API_KEY')\n",
    "# print(API_KEY)\n",
    "#Initialize reader and API_KEY"
   ]
  },
  {
   "cell_type": "code",
   "execution_count": 3,
   "metadata": {},
   "outputs": [
    {
     "data": {
      "text/html": [
       "<div>\n",
       "<style scoped>\n",
       "    .dataframe tbody tr th:only-of-type {\n",
       "        vertical-align: middle;\n",
       "    }\n",
       "\n",
       "    .dataframe tbody tr th {\n",
       "        vertical-align: top;\n",
       "    }\n",
       "\n",
       "    .dataframe thead th {\n",
       "        text-align: right;\n",
       "    }\n",
       "</style>\n",
       "<table border=\"1\" class=\"dataframe\">\n",
       "  <thead>\n",
       "    <tr style=\"text-align: right;\">\n",
       "      <th></th>\n",
       "      <th>Domain</th>\n",
       "      <th>Title</th>\n",
       "      <th>Description</th>\n",
       "      <th>Body</th>\n",
       "      <th>Link</th>\n",
       "      <th>timestamp</th>\n",
       "      <th>Analyst_Average_Score</th>\n",
       "      <th>Analyst_Rank</th>\n",
       "      <th>Reference_Final_Score</th>\n",
       "    </tr>\n",
       "  </thead>\n",
       "  <tbody>\n",
       "    <tr>\n",
       "      <th>0</th>\n",
       "      <td>rassegnastampa.news</td>\n",
       "      <td>Boris Johnson using a taxpayer-funded jet for ...</td>\n",
       "      <td>…often trigger a protest vote that can upset…t...</td>\n",
       "      <td>Boris Johnson using a taxpayer-funded jet for ...</td>\n",
       "      <td>https://rassegnastampa.news/boris-johnson-usin...</td>\n",
       "      <td>2021-09-09T18:17:46.258006</td>\n",
       "      <td>0.0</td>\n",
       "      <td>4</td>\n",
       "      <td>1.96</td>\n",
       "    </tr>\n",
       "    <tr>\n",
       "      <th>1</th>\n",
       "      <td>twitter.com</td>\n",
       "      <td>Stumbled across an interesting case, a woman f...</td>\n",
       "      <td>Stumbled across an interesting case, a woman f...</td>\n",
       "      <td>Stumbled across an interesting case, a woman f...</td>\n",
       "      <td>http://twitter.com/CoruscaKhaya/status/1435585...</td>\n",
       "      <td>2021-09-08T13:02:45.802298</td>\n",
       "      <td>0.0</td>\n",
       "      <td>4</td>\n",
       "      <td>12.00</td>\n",
       "    </tr>\n",
       "    <tr>\n",
       "      <th>2</th>\n",
       "      <td>atpe-tchad.info</td>\n",
       "      <td>Marché Résines dans les peintures et revêtemen...</td>\n",
       "      <td>…COVID-19…COVID…COVID…COVID-19 et Post COVID…C...</td>\n",
       "      <td>Le rapport d’étude de marché Résines dans les ...</td>\n",
       "      <td>http://atpe-tchad.info/2021/09/13/marche-resin...</td>\n",
       "      <td>2021-09-13T07:32:46.244403</td>\n",
       "      <td>0.0</td>\n",
       "      <td>4</td>\n",
       "      <td>0.05</td>\n",
       "    </tr>\n",
       "    <tr>\n",
       "      <th>3</th>\n",
       "      <td>badbluetech.bitnamiapp.com</td>\n",
       "      <td>AI drives data analytics surge, study finds</td>\n",
       "      <td>…hate raiders' linked to automated harassment ...</td>\n",
       "      <td>How to drive the funnel through content market...</td>\n",
       "      <td>http://badbluetech.bitnamiapp.com/p.php?sid=21...</td>\n",
       "      <td>2021-09-11T00:17:45.962605</td>\n",
       "      <td>0.0</td>\n",
       "      <td>4</td>\n",
       "      <td>6.10</td>\n",
       "    </tr>\n",
       "    <tr>\n",
       "      <th>4</th>\n",
       "      <td>kryptogazette.com</td>\n",
       "      <td>Triacetin Vertrieb Markt 2021: Globale Unterne...</td>\n",
       "      <td>…Abschnitten und Endanwendungen / Organisation...</td>\n",
       "      <td>Global Triacetin Vertrieb-Markt 2021 von Herst...</td>\n",
       "      <td>https://kryptogazette.com/2021/09/08/triacetin...</td>\n",
       "      <td>2021-09-08T12:47:46.078369</td>\n",
       "      <td>0.0</td>\n",
       "      <td>4</td>\n",
       "      <td>0.13</td>\n",
       "    </tr>\n",
       "  </tbody>\n",
       "</table>\n",
       "</div>"
      ],
      "text/plain": [
       "                       Domain  \\\n",
       "0         rassegnastampa.news   \n",
       "1                 twitter.com   \n",
       "2             atpe-tchad.info   \n",
       "3  badbluetech.bitnamiapp.com   \n",
       "4           kryptogazette.com   \n",
       "\n",
       "                                               Title  \\\n",
       "0  Boris Johnson using a taxpayer-funded jet for ...   \n",
       "1  Stumbled across an interesting case, a woman f...   \n",
       "2  Marché Résines dans les peintures et revêtemen...   \n",
       "3        AI drives data analytics surge, study finds   \n",
       "4  Triacetin Vertrieb Markt 2021: Globale Unterne...   \n",
       "\n",
       "                                         Description  \\\n",
       "0  …often trigger a protest vote that can upset…t...   \n",
       "1  Stumbled across an interesting case, a woman f...   \n",
       "2  …COVID-19…COVID…COVID…COVID-19 et Post COVID…C...   \n",
       "3  …hate raiders' linked to automated harassment ...   \n",
       "4  …Abschnitten und Endanwendungen / Organisation...   \n",
       "\n",
       "                                                Body  \\\n",
       "0  Boris Johnson using a taxpayer-funded jet for ...   \n",
       "1  Stumbled across an interesting case, a woman f...   \n",
       "2  Le rapport d’étude de marché Résines dans les ...   \n",
       "3  How to drive the funnel through content market...   \n",
       "4  Global Triacetin Vertrieb-Markt 2021 von Herst...   \n",
       "\n",
       "                                                Link  \\\n",
       "0  https://rassegnastampa.news/boris-johnson-usin...   \n",
       "1  http://twitter.com/CoruscaKhaya/status/1435585...   \n",
       "2  http://atpe-tchad.info/2021/09/13/marche-resin...   \n",
       "3  http://badbluetech.bitnamiapp.com/p.php?sid=21...   \n",
       "4  https://kryptogazette.com/2021/09/08/triacetin...   \n",
       "\n",
       "                    timestamp  Analyst_Average_Score  Analyst_Rank  \\\n",
       "0  2021-09-09T18:17:46.258006                    0.0             4   \n",
       "1  2021-09-08T13:02:45.802298                    0.0             4   \n",
       "2  2021-09-13T07:32:46.244403                    0.0             4   \n",
       "3  2021-09-11T00:17:45.962605                    0.0             4   \n",
       "4  2021-09-08T12:47:46.078369                    0.0             4   \n",
       "\n",
       "   Reference_Final_Score  \n",
       "0                   1.96  \n",
       "1                  12.00  \n",
       "2                   0.05  \n",
       "3                   6.10  \n",
       "4                   0.13  "
      ]
     },
     "execution_count": 3,
     "metadata": {},
     "output_type": "execute_result"
    }
   ],
   "source": [
    "df = pd.read_csv('../data/news.csv')\n",
    "df.head()\n",
    "#Read data"
   ]
  },
  {
   "cell_type": "markdown",
   "metadata": {},
   "source": [
    "`Lets check for lengths of the body`"
   ]
  },
  {
   "cell_type": "code",
   "execution_count": 4,
   "metadata": {},
   "outputs": [
    {
     "data": {
      "text/plain": [
       "0    13712\n",
       "1      267\n",
       "2     8273\n",
       "3    22098\n",
       "4     9554\n",
       "5     1899\n",
       "6     1729\n",
       "7     3061\n",
       "8     4428\n",
       "9     5257\n",
       "Name: Body, dtype: int64"
      ]
     },
     "execution_count": 4,
     "metadata": {},
     "output_type": "execute_result"
    }
   ],
   "source": [
    "lengths = df['Body'].apply(lambda x: len(x))\n",
    "lengths\n"
   ]
  },
  {
   "cell_type": "markdown",
   "metadata": {},
   "source": [
    "`We can see that the lowest number of charachters we have is 267 most are above 2048 which is the highest number of tokens accepted by cohere, so we have to find a new approach to preprocess this data`"
   ]
  },
  {
   "cell_type": "markdown",
   "metadata": {},
   "source": [
    "`We will try to understand the context of the body`"
   ]
  },
  {
   "cell_type": "markdown",
   "metadata": {},
   "source": [
    "### Cleaning and Preprocessing"
   ]
  },
  {
   "cell_type": "markdown",
   "metadata": {},
   "source": [
    "#### Convert to lower case"
   ]
  },
  {
   "cell_type": "code",
   "execution_count": 5,
   "metadata": {},
   "outputs": [],
   "source": [
    "df['body_lower'] = [text.lower() for text in df['Body']]"
   ]
  },
  {
   "cell_type": "code",
   "execution_count": 6,
   "metadata": {},
   "outputs": [
    {
     "data": {
      "text/plain": [
       "0    boris johnson using a taxpayer-funded jet for ...\n",
       "1    stumbled across an interesting case, a woman f...\n",
       "2    le rapport d’étude de marché résines dans les ...\n",
       "3    how to drive the funnel through content market...\n",
       "4    global triacetin vertrieb-markt 2021 von herst...\n",
       "5    south african police service office of the pro...\n",
       "6    today is the 7th anniversary [tragic collapse ...\n",
       "7    construction activity grew steadily by 4% in t...\n",
       "8    - former eskom ceo matshela moses koko sought ...\n",
       "9    global and regional beta-carotene market resea...\n",
       "Name: body_lower, dtype: object"
      ]
     },
     "execution_count": 6,
     "metadata": {},
     "output_type": "execute_result"
    }
   ],
   "source": [
    "df['body_lower']"
   ]
  },
  {
   "cell_type": "markdown",
   "metadata": {},
   "source": [
    "#### Tokenization"
   ]
  },
  {
   "cell_type": "code",
   "execution_count": 9,
   "metadata": {},
   "outputs": [
    {
     "name": "stderr",
     "output_type": "stream",
     "text": [
      "[nltk_data] Downloading package punkt to /home/n/nltk_data...\n",
      "[nltk_data]   Unzipping tokenizers/punkt.zip.\n"
     ]
    },
    {
     "data": {
      "text/plain": [
       "True"
      ]
     },
     "execution_count": 9,
     "metadata": {},
     "output_type": "execute_result"
    }
   ],
   "source": [
    "nltk.download('punkt')"
   ]
  },
  {
   "cell_type": "code",
   "execution_count": 11,
   "metadata": {},
   "outputs": [],
   "source": [
    "wtoken = [word_tokenize(text) for text in df['body_lower']]\n",
    "# wtoken\n",
    "stoken = [sent_tokenize(text) for text in df['body_lower']]"
   ]
  },
  {
   "cell_type": "markdown",
   "metadata": {},
   "source": [
    "#### Remove Punctuation"
   ]
  },
  {
   "cell_type": "code",
   "execution_count": 24,
   "metadata": {},
   "outputs": [],
   "source": [
    "reg = re.compile('(@[a-z0-9]+)|([^0-9a-z \\t])|(\\w+:\\/\\/\\S+)')\n",
    "\n",
    "no_punc = []\n",
    "\n",
    "for filt in stoken:\n",
    "    review = []\n",
    "    for token in filt:\n",
    "        new_token = reg.sub(u'', token)\n",
    "        if not new_token == u'':\n",
    "            review.append(new_token)\n",
    "    no_punc.append(review)\n",
    "    \n",
    "# print(no_punc)"
   ]
  },
  {
   "cell_type": "markdown",
   "metadata": {},
   "source": [
    "#### Remove Stop Words"
   ]
  },
  {
   "cell_type": "code",
   "execution_count": 16,
   "metadata": {},
   "outputs": [
    {
     "name": "stderr",
     "output_type": "stream",
     "text": [
      "[nltk_data] Downloading package stopwords to /home/n/nltk_data...\n",
      "[nltk_data]   Unzipping corpora/stopwords.zip.\n"
     ]
    },
    {
     "data": {
      "text/plain": [
       "True"
      ]
     },
     "execution_count": 16,
     "metadata": {},
     "output_type": "execute_result"
    }
   ],
   "source": [
    "nltk.download('stopwords')"
   ]
  },
  {
   "cell_type": "code",
   "execution_count": 25,
   "metadata": {},
   "outputs": [],
   "source": [
    "no_stop = []\n",
    "\n",
    "for text in no_punc:\n",
    "    new_term_vector = []\n",
    "    for word in text:\n",
    "        if not word in stopwords.words('english'):\n",
    "            new_term_vector.append(word)\n",
    "            \n",
    "    no_stop.append(new_term_vector)"
   ]
  },
  {
   "cell_type": "markdown",
   "metadata": {},
   "source": [
    "#### Stemming and lemmatization"
   ]
  },
  {
   "cell_type": "code",
   "execution_count": 19,
   "metadata": {},
   "outputs": [
    {
     "name": "stderr",
     "output_type": "stream",
     "text": [
      "[nltk_data] Downloading package wordnet to /home/n/nltk_data...\n"
     ]
    },
    {
     "data": {
      "text/plain": [
       "True"
      ]
     },
     "execution_count": 19,
     "metadata": {},
     "output_type": "execute_result"
    }
   ],
   "source": [
    "nltk.download('wordnet')"
   ]
  },
  {
   "cell_type": "code",
   "execution_count": 21,
   "metadata": {},
   "outputs": [
    {
     "name": "stderr",
     "output_type": "stream",
     "text": [
      "[nltk_data] Downloading package omw-1.4 to /home/n/nltk_data...\n"
     ]
    },
    {
     "data": {
      "text/plain": [
       "True"
      ]
     },
     "execution_count": 21,
     "metadata": {},
     "output_type": "execute_result"
    }
   ],
   "source": [
    "nltk.download('omw-1.4')"
   ]
  },
  {
   "cell_type": "code",
   "execution_count": 26,
   "metadata": {},
   "outputs": [],
   "source": [
    "pstem = PorterStemmer()\n",
    "wlem = WordNetLemmatizer()\n",
    "preproc_text = []\n",
    "\n",
    "for text in no_stop:\n",
    "    final_text = []\n",
    "    for word in text:\n",
    "        pstem.stem(word)\n",
    "        final_text.append(wlem.lemmatize(word))\n",
    "    \n",
    "    preproc_text.append(final_text)\n"
   ]
  },
  {
   "cell_type": "markdown",
   "metadata": {},
   "source": [
    "#### Remove web words"
   ]
  },
  {
   "cell_type": "code",
   "execution_count": 23,
   "metadata": {},
   "outputs": [],
   "source": [
    "reg = re.compile(r'(http)|(^www)|(html$)|(\\w*\\d{3,}\\w*)')\n",
    "\n",
    "tuned_text = []\n",
    "\n",
    "for filt in preproc_text:\n",
    "    review = []\n",
    "    for token in filt:\n",
    "        new_token = reg.sub(u'', token)\n",
    "        if not new_token == u'':\n",
    "            review.append(new_token)\n",
    "    tuned_text.append(review)"
   ]
  },
  {
   "cell_type": "code",
   "execution_count": 30,
   "metadata": {},
   "outputs": [
    {
     "data": {
      "text/plain": [
       "(0     9350\n",
       " 1      187\n",
       " 2     5480\n",
       " 3    17921\n",
       " 4     8406\n",
       " 5     1247\n",
       " 6     1189\n",
       " 7     2098\n",
       " 8     2916\n",
       " 9     3775\n",
       " Name: context_txt, dtype: int64,\n",
       " 0    13712\n",
       " 1      267\n",
       " 2     8273\n",
       " 3    22098\n",
       " 4     9554\n",
       " 5     1899\n",
       " 6     1729\n",
       " 7     3061\n",
       " 8     4428\n",
       " 9     5257\n",
       " Name: Body, dtype: int64)"
      ]
     },
     "execution_count": 30,
     "metadata": {},
     "output_type": "execute_result"
    }
   ],
   "source": [
    "df['context_txt'] = [\" \".join(word) for word in tuned_text]\n",
    "le = df['context_txt'].apply(lambda x: len(x))\n",
    "le1 = df['Body'].apply(lambda x: len(x))\n",
    "le,le1"
   ]
  },
  {
   "cell_type": "markdown",
   "metadata": {},
   "source": [
    "`We can see that we still have more characters than the accepted one, so we have to discard from our prompt the one that have more characters`"
   ]
  },
  {
   "cell_type": "code",
   "execution_count": 31,
   "metadata": {},
   "outputs": [
    {
     "data": {
      "text/plain": [
       "0    121\n",
       "1    267\n",
       "2    222\n",
       "3     43\n",
       "4    156\n",
       "5    103\n",
       "6     54\n",
       "7     78\n",
       "8     84\n",
       "9    150\n",
       "Name: Title, dtype: int64"
      ]
     },
     "execution_count": 31,
     "metadata": {},
     "output_type": "execute_result"
    }
   ],
   "source": [
    "title_length = df['Title'].apply(lambda x: len(x))\n",
    "description_length = df['Description'].apply(lambda x: len(x))\n",
    "title_length"
   ]
  },
  {
   "cell_type": "code",
   "execution_count": 32,
   "metadata": {},
   "outputs": [
    {
     "data": {
      "text/plain": [
       "0    251\n",
       "1    267\n",
       "2    245\n",
       "3    248\n",
       "4    251\n",
       "5    251\n",
       "6    253\n",
       "7    253\n",
       "8    252\n",
       "9    249\n",
       "Name: Description, dtype: int64"
      ]
     },
     "execution_count": 32,
     "metadata": {},
     "output_type": "execute_result"
    }
   ],
   "source": [
    "description_length"
   ]
  },
  {
   "cell_type": "markdown",
   "metadata": {},
   "source": [
    "### Preprocess description "
   ]
  },
  {
   "cell_type": "markdown",
   "metadata": {},
   "source": [
    "#### Convert to lowercase"
   ]
  },
  {
   "cell_type": "code",
   "execution_count": 33,
   "metadata": {},
   "outputs": [
    {
     "data": {
      "text/plain": [
       "0    …often trigger a protest vote that can upset…t...\n",
       "1    stumbled across an interesting case, a woman f...\n",
       "2    …covid-19…covid…covid…covid-19 et post covid…c...\n",
       "3    …hate raiders' linked to automated harassment ...\n",
       "4    …abschnitten und endanwendungen / organisation...\n",
       "5    …crime stamp out…n1 and r101 roads appear in c...\n",
       "6    …in lagos, nigeria, 84 south africans were kil...\n",
       "7    …additional spending on buildings, repairs and...\n",
       "8    …lawsuit against public participation) designe...\n",
       "9    …key players! – dsm – basf – allied biotech – ...\n",
       "Name: desc_lower, dtype: object"
      ]
     },
     "execution_count": 33,
     "metadata": {},
     "output_type": "execute_result"
    }
   ],
   "source": [
    "df['desc_lower'] = [text.lower() for text in df['Description']]\n",
    "df['desc_lower']"
   ]
  },
  {
   "cell_type": "markdown",
   "metadata": {},
   "source": [
    "#### Tokenization"
   ]
  },
  {
   "cell_type": "code",
   "execution_count": 34,
   "metadata": {},
   "outputs": [],
   "source": [
    "desc_sent_token = [sent_tokenize(text) for text in df['Description']]"
   ]
  },
  {
   "cell_type": "markdown",
   "metadata": {},
   "source": [
    "#### Removing punctuation"
   ]
  },
  {
   "cell_type": "code",
   "execution_count": 35,
   "metadata": {},
   "outputs": [],
   "source": [
    "reg = re.compile('(@[a-z0-9]+)|([^0-9a-z \\t])|(\\w+:\\/\\/\\S+)')\n",
    "\n",
    "no_punc = []\n",
    "\n",
    "for filt in desc_sent_token:\n",
    "    review = []\n",
    "    for token in filt:\n",
    "        new_token = reg.sub(u'', token)\n",
    "        if not new_token == u'':\n",
    "            review.append(new_token)\n",
    "    no_punc.append(review)\n"
   ]
  },
  {
   "cell_type": "markdown",
   "metadata": {},
   "source": [
    "#### Removing stop words"
   ]
  },
  {
   "cell_type": "code",
   "execution_count": 36,
   "metadata": {},
   "outputs": [],
   "source": [
    "no_stop = []\n",
    "\n",
    "for text in no_punc:\n",
    "    new_term_vector = []\n",
    "    for word in text:\n",
    "        if not word in stopwords.words('english'):\n",
    "            new_term_vector.append(word)\n",
    "            \n",
    "    no_stop.append(new_term_vector)"
   ]
  },
  {
   "cell_type": "markdown",
   "metadata": {},
   "source": [
    "#### Stemming and lemmatization"
   ]
  },
  {
   "cell_type": "code",
   "execution_count": 37,
   "metadata": {},
   "outputs": [],
   "source": [
    "preproc_text = []\n",
    "\n",
    "for text in no_stop:\n",
    "    final_text = []\n",
    "    for word in text:\n",
    "        pstem.stem(word)\n",
    "        final_text.append(wlem.lemmatize(word))\n",
    "    \n",
    "    preproc_text.append(final_text)"
   ]
  },
  {
   "cell_type": "code",
   "execution_count": 38,
   "metadata": {},
   "outputs": [],
   "source": [
    "reg = re.compile(r'(http)|(^www)|(html$)|(\\w*\\d{3,}\\w*)')\n",
    "\n",
    "tuned_text = []\n",
    "\n",
    "for filt in preproc_text:\n",
    "    review = []\n",
    "    for token in filt:\n",
    "        new_token = reg.sub(u'', token)\n",
    "        if not new_token == u'':\n",
    "            review.append(new_token)\n",
    "    tuned_text.append(review)"
   ]
  },
  {
   "cell_type": "code",
   "execution_count": 39,
   "metadata": {},
   "outputs": [],
   "source": [
    "\n",
    "df['desc_context_txt'] = [\" \".join(word) for word in tuned_text]"
   ]
  },
  {
   "cell_type": "code",
   "execution_count": 40,
   "metadata": {},
   "outputs": [
    {
     "data": {
      "text/plain": [
       "0    often trigger a protest vote that can upsettha...\n",
       "1    tumbled across an interesting case a woman fac...\n",
       "2     et ost ovid19  valuation des risques lis au 1...\n",
       "3    hate raiders linked to automated harassment ca...\n",
       "4    bschnitten und ndanwendungen  rganisationen ov...\n",
       "5    rime tamp ut1 and  roads appear in court   rim...\n",
       "6    in agos igeria 84 outh fricans were killed he ...\n",
       "7    additional spending on buildings repairs and s...\n",
       "8    awsuit gainst ublic articipation designed to i...\n",
       "9    key players      llied iotech  hrhistorical ma...\n",
       "Name: desc_context_txt, dtype: object"
      ]
     },
     "execution_count": 40,
     "metadata": {},
     "output_type": "execute_result"
    }
   ],
   "source": [
    "df['desc_context_txt']"
   ]
  },
  {
   "cell_type": "markdown",
   "metadata": {},
   "source": [
    "### Classify to Groups/Classes Based on Analyst_Average_Score"
   ]
  },
  {
   "cell_type": "code",
   "execution_count": 41,
   "metadata": {},
   "outputs": [
    {
     "data": {
      "text/html": [
       "<div>\n",
       "<style scoped>\n",
       "    .dataframe tbody tr th:only-of-type {\n",
       "        vertical-align: middle;\n",
       "    }\n",
       "\n",
       "    .dataframe tbody tr th {\n",
       "        vertical-align: top;\n",
       "    }\n",
       "\n",
       "    .dataframe thead th {\n",
       "        text-align: right;\n",
       "    }\n",
       "</style>\n",
       "<table border=\"1\" class=\"dataframe\">\n",
       "  <thead>\n",
       "    <tr style=\"text-align: right;\">\n",
       "      <th></th>\n",
       "      <th>Domain</th>\n",
       "      <th>Title</th>\n",
       "      <th>Description</th>\n",
       "      <th>Body</th>\n",
       "      <th>Link</th>\n",
       "      <th>timestamp</th>\n",
       "      <th>Analyst_Average_Score</th>\n",
       "      <th>Analyst_Rank</th>\n",
       "      <th>Reference_Final_Score</th>\n",
       "      <th>body_lower</th>\n",
       "      <th>context_txt</th>\n",
       "      <th>desc_lower</th>\n",
       "      <th>desc_context_txt</th>\n",
       "    </tr>\n",
       "  </thead>\n",
       "  <tbody>\n",
       "    <tr>\n",
       "      <th>0</th>\n",
       "      <td>rassegnastampa.news</td>\n",
       "      <td>Boris Johnson using a taxpayer-funded jet for ...</td>\n",
       "      <td>…often trigger a protest vote that can upset…t...</td>\n",
       "      <td>Boris Johnson using a taxpayer-funded jet for ...</td>\n",
       "      <td>https://rassegnastampa.news/boris-johnson-usin...</td>\n",
       "      <td>2021-09-09T18:17:46.258006</td>\n",
       "      <td>0.00</td>\n",
       "      <td>4</td>\n",
       "      <td>1.96</td>\n",
       "      <td>boris johnson using a taxpayer-funded jet for ...</td>\n",
       "      <td>boris johnson using taxpayerfunded jet electio...</td>\n",
       "      <td>…often trigger a protest vote that can upset…t...</td>\n",
       "      <td>often trigger a protest vote that can upsettha...</td>\n",
       "    </tr>\n",
       "    <tr>\n",
       "      <th>1</th>\n",
       "      <td>twitter.com</td>\n",
       "      <td>Stumbled across an interesting case, a woman f...</td>\n",
       "      <td>Stumbled across an interesting case, a woman f...</td>\n",
       "      <td>Stumbled across an interesting case, a woman f...</td>\n",
       "      <td>http://twitter.com/CoruscaKhaya/status/1435585...</td>\n",
       "      <td>2021-09-08T13:02:45.802298</td>\n",
       "      <td>0.00</td>\n",
       "      <td>4</td>\n",
       "      <td>12.00</td>\n",
       "      <td>stumbled across an interesting case, a woman f...</td>\n",
       "      <td>stumbled across interesting case woman facing ...</td>\n",
       "      <td>stumbled across an interesting case, a woman f...</td>\n",
       "      <td>tumbled across an interesting case a woman fac...</td>\n",
       "    </tr>\n",
       "    <tr>\n",
       "      <th>2</th>\n",
       "      <td>atpe-tchad.info</td>\n",
       "      <td>Marché Résines dans les peintures et revêtemen...</td>\n",
       "      <td>…COVID-19…COVID…COVID…COVID-19 et Post COVID…C...</td>\n",
       "      <td>Le rapport d’étude de marché Résines dans les ...</td>\n",
       "      <td>http://atpe-tchad.info/2021/09/13/marche-resin...</td>\n",
       "      <td>2021-09-13T07:32:46.244403</td>\n",
       "      <td>0.00</td>\n",
       "      <td>4</td>\n",
       "      <td>0.05</td>\n",
       "      <td>le rapport d’étude de marché résines dans les ...</td>\n",
       "      <td>le rapport tude de march rsines dans le peintu...</td>\n",
       "      <td>…covid-19…covid…covid…covid-19 et post covid…c...</td>\n",
       "      <td>et ost ovid19  valuation des risques lis au 1...</td>\n",
       "    </tr>\n",
       "    <tr>\n",
       "      <th>3</th>\n",
       "      <td>badbluetech.bitnamiapp.com</td>\n",
       "      <td>AI drives data analytics surge, study finds</td>\n",
       "      <td>…hate raiders' linked to automated harassment ...</td>\n",
       "      <td>How to drive the funnel through content market...</td>\n",
       "      <td>http://badbluetech.bitnamiapp.com/p.php?sid=21...</td>\n",
       "      <td>2021-09-11T00:17:45.962605</td>\n",
       "      <td>0.00</td>\n",
       "      <td>4</td>\n",
       "      <td>6.10</td>\n",
       "      <td>how to drive the funnel through content market...</td>\n",
       "      <td>drive funnel content marketing link building s...</td>\n",
       "      <td>…hate raiders' linked to automated harassment ...</td>\n",
       "      <td>hate raiders linked to automated harassment ca...</td>\n",
       "    </tr>\n",
       "    <tr>\n",
       "      <th>4</th>\n",
       "      <td>kryptogazette.com</td>\n",
       "      <td>Triacetin Vertrieb Markt 2021: Globale Unterne...</td>\n",
       "      <td>…Abschnitten und Endanwendungen / Organisation...</td>\n",
       "      <td>Global Triacetin Vertrieb-Markt 2021 von Herst...</td>\n",
       "      <td>https://kryptogazette.com/2021/09/08/triacetin...</td>\n",
       "      <td>2021-09-08T12:47:46.078369</td>\n",
       "      <td>0.00</td>\n",
       "      <td>4</td>\n",
       "      <td>0.13</td>\n",
       "      <td>global triacetin vertrieb-markt 2021 von herst...</td>\n",
       "      <td>global triacetin vertriebmarkt von herstellern...</td>\n",
       "      <td>…abschnitten und endanwendungen / organisation...</td>\n",
       "      <td>bschnitten und ndanwendungen  rganisationen ov...</td>\n",
       "    </tr>\n",
       "    <tr>\n",
       "      <th>5</th>\n",
       "      <td>mype.co.za</td>\n",
       "      <td>Male arrested for the murder of an elderly fem...</td>\n",
       "      <td>…Crime Stamp Out…N1 and R101 roads appear in c...</td>\n",
       "      <td>South African Police Service Office of the Pro...</td>\n",
       "      <td>https://mype.co.za/new/male-arrested-for-the-m...</td>\n",
       "      <td>2021-09-10T00:17:46.055622</td>\n",
       "      <td>1.33</td>\n",
       "      <td>2</td>\n",
       "      <td>11.00</td>\n",
       "      <td>south african police service office of the pro...</td>\n",
       "      <td>south african police service office provincial...</td>\n",
       "      <td>…crime stamp out…n1 and r101 roads appear in c...</td>\n",
       "      <td>rime tamp ut1 and  roads appear in court   rim...</td>\n",
       "    </tr>\n",
       "    <tr>\n",
       "      <th>6</th>\n",
       "      <td>eminetra.co.za</td>\n",
       "      <td>7th Anniversary of SCOAN Collapse in Nigeria-S...</td>\n",
       "      <td>…in Lagos, Nigeria, 84 South Africans were kil...</td>\n",
       "      <td>Today is the 7th anniversary [Tragic collapse ...</td>\n",
       "      <td>https://eminetra.co.za/7th-anniversary-of-scoa...</td>\n",
       "      <td>2021-09-12T05:17:50.279081</td>\n",
       "      <td>0.00</td>\n",
       "      <td>4</td>\n",
       "      <td>10.10</td>\n",
       "      <td>today is the 7th anniversary [tragic collapse ...</td>\n",
       "      <td>today 7th anniversary tragic collapse building...</td>\n",
       "      <td>…in lagos, nigeria, 84 south africans were kil...</td>\n",
       "      <td>in agos igeria 84 outh fricans were killed he ...</td>\n",
       "    </tr>\n",
       "    <tr>\n",
       "      <th>7</th>\n",
       "      <td>eminetra.co.za</td>\n",
       "      <td>The construction sector is expected to be boos...</td>\n",
       "      <td>…additional spending on buildings, repairs and...</td>\n",
       "      <td>Construction activity grew steadily by 4% in t...</td>\n",
       "      <td>https://eminetra.co.za/the-construction-sector...</td>\n",
       "      <td>2021-09-09T09:02:46.320793</td>\n",
       "      <td>1.66</td>\n",
       "      <td>1</td>\n",
       "      <td>1.36</td>\n",
       "      <td>construction activity grew steadily by 4% in t...</td>\n",
       "      <td>construction activity grew steadily 4 second q...</td>\n",
       "      <td>…additional spending on buildings, repairs and...</td>\n",
       "      <td>additional spending on buildings repairs and s...</td>\n",
       "    </tr>\n",
       "    <tr>\n",
       "      <th>8</th>\n",
       "      <td>news24.com</td>\n",
       "      <td>News24.com | Court dismisses attempt by former...</td>\n",
       "      <td>…Lawsuit Against Public Participation) designe...</td>\n",
       "      <td>- Former Eskom CEO Matshela Moses Koko sought ...</td>\n",
       "      <td>https://www.news24.com/news24/southafrica/news...</td>\n",
       "      <td>2021-09-09T19:32:46.239682</td>\n",
       "      <td>0.33</td>\n",
       "      <td>3</td>\n",
       "      <td>2.40</td>\n",
       "      <td>- former eskom ceo matshela moses koko sought ...</td>\n",
       "      <td>former eskom ceo matshela moses koko sought da...</td>\n",
       "      <td>…lawsuit against public participation) designe...</td>\n",
       "      <td>awsuit gainst ublic articipation designed to i...</td>\n",
       "    </tr>\n",
       "    <tr>\n",
       "      <th>9</th>\n",
       "      <td>manometcurrent.com</td>\n",
       "      <td>Global and Regional Beta-Carotene Market Resea...</td>\n",
       "      <td>…key players! – DSM – BASF – Allied Biotech – ...</td>\n",
       "      <td>Global and Regional Beta-Carotene Market Resea...</td>\n",
       "      <td>https://manometcurrent.com/global-and-regional...</td>\n",
       "      <td>2021-09-13T03:02:45.609228</td>\n",
       "      <td>0.00</td>\n",
       "      <td>4</td>\n",
       "      <td>0.22</td>\n",
       "      <td>global and regional beta-carotene market resea...</td>\n",
       "      <td>global regional betacarotene market research r...</td>\n",
       "      <td>…key players! – dsm – basf – allied biotech – ...</td>\n",
       "      <td>key players      llied iotech  hrhistorical ma...</td>\n",
       "    </tr>\n",
       "  </tbody>\n",
       "</table>\n",
       "</div>"
      ],
      "text/plain": [
       "                       Domain  \\\n",
       "0         rassegnastampa.news   \n",
       "1                 twitter.com   \n",
       "2             atpe-tchad.info   \n",
       "3  badbluetech.bitnamiapp.com   \n",
       "4           kryptogazette.com   \n",
       "5                  mype.co.za   \n",
       "6              eminetra.co.za   \n",
       "7              eminetra.co.za   \n",
       "8                  news24.com   \n",
       "9          manometcurrent.com   \n",
       "\n",
       "                                               Title  \\\n",
       "0  Boris Johnson using a taxpayer-funded jet for ...   \n",
       "1  Stumbled across an interesting case, a woman f...   \n",
       "2  Marché Résines dans les peintures et revêtemen...   \n",
       "3        AI drives data analytics surge, study finds   \n",
       "4  Triacetin Vertrieb Markt 2021: Globale Unterne...   \n",
       "5  Male arrested for the murder of an elderly fem...   \n",
       "6  7th Anniversary of SCOAN Collapse in Nigeria-S...   \n",
       "7  The construction sector is expected to be boos...   \n",
       "8  News24.com | Court dismisses attempt by former...   \n",
       "9  Global and Regional Beta-Carotene Market Resea...   \n",
       "\n",
       "                                         Description  \\\n",
       "0  …often trigger a protest vote that can upset…t...   \n",
       "1  Stumbled across an interesting case, a woman f...   \n",
       "2  …COVID-19…COVID…COVID…COVID-19 et Post COVID…C...   \n",
       "3  …hate raiders' linked to automated harassment ...   \n",
       "4  …Abschnitten und Endanwendungen / Organisation...   \n",
       "5  …Crime Stamp Out…N1 and R101 roads appear in c...   \n",
       "6  …in Lagos, Nigeria, 84 South Africans were kil...   \n",
       "7  …additional spending on buildings, repairs and...   \n",
       "8  …Lawsuit Against Public Participation) designe...   \n",
       "9  …key players! – DSM – BASF – Allied Biotech – ...   \n",
       "\n",
       "                                                Body  \\\n",
       "0  Boris Johnson using a taxpayer-funded jet for ...   \n",
       "1  Stumbled across an interesting case, a woman f...   \n",
       "2  Le rapport d’étude de marché Résines dans les ...   \n",
       "3  How to drive the funnel through content market...   \n",
       "4  Global Triacetin Vertrieb-Markt 2021 von Herst...   \n",
       "5  South African Police Service Office of the Pro...   \n",
       "6  Today is the 7th anniversary [Tragic collapse ...   \n",
       "7  Construction activity grew steadily by 4% in t...   \n",
       "8  - Former Eskom CEO Matshela Moses Koko sought ...   \n",
       "9  Global and Regional Beta-Carotene Market Resea...   \n",
       "\n",
       "                                                Link  \\\n",
       "0  https://rassegnastampa.news/boris-johnson-usin...   \n",
       "1  http://twitter.com/CoruscaKhaya/status/1435585...   \n",
       "2  http://atpe-tchad.info/2021/09/13/marche-resin...   \n",
       "3  http://badbluetech.bitnamiapp.com/p.php?sid=21...   \n",
       "4  https://kryptogazette.com/2021/09/08/triacetin...   \n",
       "5  https://mype.co.za/new/male-arrested-for-the-m...   \n",
       "6  https://eminetra.co.za/7th-anniversary-of-scoa...   \n",
       "7  https://eminetra.co.za/the-construction-sector...   \n",
       "8  https://www.news24.com/news24/southafrica/news...   \n",
       "9  https://manometcurrent.com/global-and-regional...   \n",
       "\n",
       "                    timestamp  Analyst_Average_Score  Analyst_Rank  \\\n",
       "0  2021-09-09T18:17:46.258006                   0.00             4   \n",
       "1  2021-09-08T13:02:45.802298                   0.00             4   \n",
       "2  2021-09-13T07:32:46.244403                   0.00             4   \n",
       "3  2021-09-11T00:17:45.962605                   0.00             4   \n",
       "4  2021-09-08T12:47:46.078369                   0.00             4   \n",
       "5  2021-09-10T00:17:46.055622                   1.33             2   \n",
       "6  2021-09-12T05:17:50.279081                   0.00             4   \n",
       "7  2021-09-09T09:02:46.320793                   1.66             1   \n",
       "8  2021-09-09T19:32:46.239682                   0.33             3   \n",
       "9  2021-09-13T03:02:45.609228                   0.00             4   \n",
       "\n",
       "   Reference_Final_Score                                         body_lower  \\\n",
       "0                   1.96  boris johnson using a taxpayer-funded jet for ...   \n",
       "1                  12.00  stumbled across an interesting case, a woman f...   \n",
       "2                   0.05  le rapport d’étude de marché résines dans les ...   \n",
       "3                   6.10  how to drive the funnel through content market...   \n",
       "4                   0.13  global triacetin vertrieb-markt 2021 von herst...   \n",
       "5                  11.00  south african police service office of the pro...   \n",
       "6                  10.10  today is the 7th anniversary [tragic collapse ...   \n",
       "7                   1.36  construction activity grew steadily by 4% in t...   \n",
       "8                   2.40  - former eskom ceo matshela moses koko sought ...   \n",
       "9                   0.22  global and regional beta-carotene market resea...   \n",
       "\n",
       "                                         context_txt  \\\n",
       "0  boris johnson using taxpayerfunded jet electio...   \n",
       "1  stumbled across interesting case woman facing ...   \n",
       "2  le rapport tude de march rsines dans le peintu...   \n",
       "3  drive funnel content marketing link building s...   \n",
       "4  global triacetin vertriebmarkt von herstellern...   \n",
       "5  south african police service office provincial...   \n",
       "6  today 7th anniversary tragic collapse building...   \n",
       "7  construction activity grew steadily 4 second q...   \n",
       "8  former eskom ceo matshela moses koko sought da...   \n",
       "9  global regional betacarotene market research r...   \n",
       "\n",
       "                                          desc_lower  \\\n",
       "0  …often trigger a protest vote that can upset…t...   \n",
       "1  stumbled across an interesting case, a woman f...   \n",
       "2  …covid-19…covid…covid…covid-19 et post covid…c...   \n",
       "3  …hate raiders' linked to automated harassment ...   \n",
       "4  …abschnitten und endanwendungen / organisation...   \n",
       "5  …crime stamp out…n1 and r101 roads appear in c...   \n",
       "6  …in lagos, nigeria, 84 south africans were kil...   \n",
       "7  …additional spending on buildings, repairs and...   \n",
       "8  …lawsuit against public participation) designe...   \n",
       "9  …key players! – dsm – basf – allied biotech – ...   \n",
       "\n",
       "                                    desc_context_txt  \n",
       "0  often trigger a protest vote that can upsettha...  \n",
       "1  tumbled across an interesting case a woman fac...  \n",
       "2   et ost ovid19  valuation des risques lis au 1...  \n",
       "3  hate raiders linked to automated harassment ca...  \n",
       "4  bschnitten und ndanwendungen  rganisationen ov...  \n",
       "5  rime tamp ut1 and  roads appear in court   rim...  \n",
       "6  in agos igeria 84 outh fricans were killed he ...  \n",
       "7  additional spending on buildings repairs and s...  \n",
       "8  awsuit gainst ublic articipation designed to i...  \n",
       "9  key players      llied iotech  hrhistorical ma...  "
      ]
     },
     "execution_count": 41,
     "metadata": {},
     "output_type": "execute_result"
    }
   ],
   "source": [
    "df"
   ]
  },
  {
   "cell_type": "code",
   "execution_count": 42,
   "metadata": {},
   "outputs": [
    {
     "data": {
      "text/plain": [
       "0    low\n",
       "1    low\n",
       "2    low\n",
       "3    low\n",
       "4    low\n",
       "5    low\n",
       "6    low\n",
       "7    low\n",
       "8    low\n",
       "9    low\n",
       "Name: Analyst_Average_Score, dtype: object"
      ]
     },
     "execution_count": 42,
     "metadata": {},
     "output_type": "execute_result"
    }
   ],
   "source": [
    "rank__to_10 = df['Analyst_Average_Score'].apply(lambda x: 'low' if x < 5 else 'high')\n",
    "rank__to_10\n",
    "#We will add new column with value 'high' for Analyst_Average_Score >= 5 and 'low' for Analyst_Average_Score < 5 and >=0"
   ]
  },
  {
   "cell_type": "code",
   "execution_count": 43,
   "metadata": {},
   "outputs": [
    {
     "data": {
      "text/plain": [
       "0    low\n",
       "1    low\n",
       "2    low\n",
       "3    low\n",
       "4    low\n",
       "5    low\n",
       "6    low\n",
       "7    low\n",
       "8    low\n",
       "9    low\n",
       "Name: rank_to_10, dtype: object"
      ]
     },
     "execution_count": 43,
     "metadata": {},
     "output_type": "execute_result"
    }
   ],
   "source": [
    "df['rank_to_10'] = rank__to_10\n",
    "df['rank_to_10']"
   ]
  },
  {
   "cell_type": "code",
   "execution_count": null,
   "metadata": {},
   "outputs": [],
   "source": [
    "def handle_sub_class(value):\n",
    "    if value >= 0 and value < 1:\n",
    "        return \"low_1\"\n",
    "    elif value >= 1 and value < 2:\n",
    "        return \"low_2\"\n",
    "    elif value >= 2 and value < 3:\n",
    "        return \"low_3\"\n",
    "    elif value >= 3 and value < 4:\n",
    "        return \"low_4\"\n",
    "    elif value >= 4 and value < 5:\n",
    "        return \"low_5\"\n",
    "    elif value >= 5 and value < 6:\n",
    "        return \"high_1\"\n",
    "    elif value >= 6 and value < 7:\n",
    "        return \"high_2\"\n",
    "    elif value >= 7 and value < 8:\n",
    "        return \"high_3\"\n",
    "    elif value >= 8 and value < 9:\n",
    "        return \"high_4\"\n",
    "    else:\n",
    "        return \"high_5\"\n",
    "\n",
    "#We will add new column with value 'high_1' for rows having Analyst_Average_Score value of 5-6, high_2 for rows having Analyst_Average_Score value of 6-7 til high_5 for rows having Analyst_Average_Score value of 9-10 \n",
    "#We will add new column with value 'low_1' for rows having Analyst_Average_Score value of 0-1, low_2 for rows having Analyst_Average_Score value of 1-2 til low_5 for rows having Analyst_Average_Score value of 4-5 "
   ]
  }
 ],
 "metadata": {
  "kernelspec": {
   "display_name": "Python 3.9.12 64-bit ('anaconda3')",
   "language": "python",
   "name": "python3"
  },
  "language_info": {
   "codemirror_mode": {
    "name": "ipython",
    "version": 3
   },
   "file_extension": ".py",
   "mimetype": "text/x-python",
   "name": "python",
   "nbconvert_exporter": "python",
   "pygments_lexer": "ipython3",
   "version": "3.9.12"
  },
  "orig_nbformat": 4,
  "vscode": {
   "interpreter": {
    "hash": "d544f67e9aa83adbd02c37f60b9b691fd714bd2f11a4e3320930970c6f737269"
   }
  }
 },
 "nbformat": 4,
 "nbformat_minor": 2
}
